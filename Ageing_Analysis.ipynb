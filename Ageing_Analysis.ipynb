{
 "cells": [
  {
   "cell_type": "code",
   "execution_count": 1,
   "id": "4071b8db",
   "metadata": {},
   "outputs": [
    {
     "name": "stderr",
     "output_type": "stream",
     "text": [
      "WARNING: Using incubator modules: jdk.incubator.vector\n",
      "Using Spark's default log4j profile: org/apache/spark/log4j2-defaults.properties\n",
      "25/07/13 15:23:39 WARN Utils: Your hostname, codespaces-6557a2, resolves to a loopback address: 127.0.0.1; using 10.0.2.180 instead (on interface eth0)\n",
      "25/07/13 15:23:39 WARN Utils: Set SPARK_LOCAL_IP if you need to bind to another address\n",
      "Using Spark's default log4j profile: org/apache/spark/log4j2-defaults.properties\n",
      "Setting default log level to \"WARN\".\n",
      "To adjust logging level use sc.setLogLevel(newLevel). For SparkR, use setLogLevel(newLevel).\n",
      "25/07/13 15:23:44 WARN NativeCodeLoader: Unable to load native-hadoop library for your platform... using builtin-java classes where applicable\n",
      "                                                                                \r"
     ]
    }
   ],
   "source": [
    "from pyspark.sql import SparkSession\n",
    "\n",
    "spark = SparkSession.builder.getOrCreate()\n",
    "\n",
    "# Read the Parquet file\n",
    "df = spark.read.parquet(\"working_data/Filtered_Fish_Data.parquet\")"
   ]
  },
  {
   "cell_type": "code",
   "execution_count": 2,
   "id": "917e8bce",
   "metadata": {},
   "outputs": [
    {
     "name": "stderr",
     "output_type": "stream",
     "text": [
      "                                                                                \r"
     ]
    },
    {
     "name": "stdout",
     "output_type": "stream",
     "text": [
      "+---------+---------------+----------+------------+--------------------+-----------------+----------------------+---------------------+-----------+--------+\n",
      "|SURVEY_ID|EVENT_DATE_YEAR|SPECIES_ID|SPECIES_NAME|          LATIN_NAME|SURVEY_RANKED_NGR|SURVEY_RANKED_NORTHING|SURVEY_RANKED_EASTING|FISH_LENGTH|AGE_BAND|\n",
      "+---------+---------------+----------+------------+--------------------+-----------------+----------------------+---------------------+-----------+--------+\n",
      "|   111032|           1989|       196|        Rudd|Scardinius erythr...|     SE5530009200|                409200|               455300|        142|     >4+|\n",
      "|    72230|           2002|       196|        Rudd|Scardinius erythr...|     SE7920071500|                471500|               479200|         29|      0+|\n",
      "|    51949|           2001|       196|        Rudd|Scardinius erythr...|     SU5880008700|                108700|               458800|        157|      0+|\n",
      "|    67760|           2001|       196|        Rudd|Scardinius erythr...|     TA0910054200|                454200|               509100|         30|      0+|\n",
      "|   150298|           2017|       196|        Rudd|Scardinius erythr...|     TG4050021700|                321700|               640500|        143|       3|\n",
      "+---------+---------------+----------+------------+--------------------+-----------------+----------------------+---------------------+-----------+--------+\n",
      "only showing top 5 rows\n",
      "root\n",
      " |-- SURVEY_ID: integer (nullable = true)\n",
      " |-- EVENT_DATE_YEAR: long (nullable = true)\n",
      " |-- SPECIES_ID: integer (nullable = true)\n",
      " |-- SPECIES_NAME: string (nullable = true)\n",
      " |-- LATIN_NAME: string (nullable = true)\n",
      " |-- SURVEY_RANKED_NGR: string (nullable = true)\n",
      " |-- SURVEY_RANKED_NORTHING: long (nullable = true)\n",
      " |-- SURVEY_RANKED_EASTING: long (nullable = true)\n",
      " |-- FISH_LENGTH: integer (nullable = true)\n",
      " |-- AGE_BAND: string (nullable = true)\n",
      "\n"
     ]
    },
    {
     "data": {
      "text/plain": [
       "4915478"
      ]
     },
     "execution_count": 2,
     "metadata": {},
     "output_type": "execute_result"
    }
   ],
   "source": [
    "df.show(5)\n",
    "df.printSchema()\n",
    "df.select(\"SURVEY_ID\").count()"
   ]
  },
  {
   "cell_type": "code",
   "execution_count": 3,
   "id": "136f84e2",
   "metadata": {},
   "outputs": [
    {
     "name": "stderr",
     "output_type": "stream",
     "text": [
      "                                                                                \r"
     ]
    },
    {
     "name": "stdout",
     "output_type": "stream",
     "text": [
      "+---------+---------------+----------+------------+--------------------+-----------------+----------------------+---------------------+-----------+--------+\n",
      "|SURVEY_ID|EVENT_DATE_YEAR|SPECIES_ID|SPECIES_NAME|          LATIN_NAME|SURVEY_RANKED_NGR|SURVEY_RANKED_NORTHING|SURVEY_RANKED_EASTING|FISH_LENGTH|AGE_BAND|\n",
      "+---------+---------------+----------+------------+--------------------+-----------------+----------------------+---------------------+-----------+--------+\n",
      "|    72230|           2002|       196|        Rudd|Scardinius erythr...|     SE7920071500|                471500|               479200|         29|      0+|\n",
      "|    51949|           2001|       196|        Rudd|Scardinius erythr...|     SU5880008700|                108700|               458800|        157|      0+|\n",
      "|    67760|           2001|       196|        Rudd|Scardinius erythr...|     TA0910054200|                454200|               509100|         30|      0+|\n",
      "|   150298|           2017|       196|        Rudd|Scardinius erythr...|     TG4050021700|                321700|               640500|        143|       3|\n",
      "|   150298|           2017|       196|        Rudd|Scardinius erythr...|     TG4050021700|                321700|               640500|        118|       3|\n",
      "+---------+---------------+----------+------------+--------------------+-----------------+----------------------+---------------------+-----------+--------+\n",
      "only showing top 5 rows\n"
     ]
    },
    {
     "data": {
      "text/plain": [
       "170861"
      ]
     },
     "execution_count": 3,
     "metadata": {},
     "output_type": "execute_result"
    }
   ],
   "source": [
    "from pyspark.sql.functions import col\n",
    "\n",
    "df = df.filter(\n",
    "    (col(\"AGE_BAND\").isNotNull()) &\n",
    "    (~col(\"AGE_BAND\").contains(\">\")) &\n",
    "    (~col(\"AGE_BAND\").contains(\"<\"))\n",
    ")\n",
    "df.show(5)\n",
    "df.select(\"SURVEY_ID\").count()"
   ]
  },
  {
   "cell_type": "code",
   "execution_count": 4,
   "id": "ec000005",
   "metadata": {},
   "outputs": [
    {
     "name": "stdout",
     "output_type": "stream",
     "text": [
      "+---------+---------------+----------+------------+--------------------+-----------------+----------------------+---------------------+-----------+--------+\n",
      "|SURVEY_ID|EVENT_DATE_YEAR|SPECIES_ID|SPECIES_NAME|          LATIN_NAME|SURVEY_RANKED_NGR|SURVEY_RANKED_NORTHING|SURVEY_RANKED_EASTING|FISH_LENGTH|AGE_BAND|\n",
      "+---------+---------------+----------+------------+--------------------+-----------------+----------------------+---------------------+-----------+--------+\n",
      "|   150298|           2017|       196|        Rudd|Scardinius erythr...|     TG4050021700|                321700|               640500|        143|       3|\n",
      "|   150298|           2017|       196|        Rudd|Scardinius erythr...|     TG4050021700|                321700|               640500|        118|       3|\n",
      "|   150298|           2017|       196|        Rudd|Scardinius erythr...|     TG4050021700|                321700|               640500|        136|       3|\n",
      "|   150298|           2017|       196|        Rudd|Scardinius erythr...|     TG4050021700|                321700|               640500|        127|       3|\n",
      "|   150298|           2017|       196|        Rudd|Scardinius erythr...|     TG4050021700|                321700|               640500|        112|       3|\n",
      "+---------+---------------+----------+------------+--------------------+-----------------+----------------------+---------------------+-----------+--------+\n",
      "only showing top 5 rows\n"
     ]
    },
    {
     "data": {
      "text/plain": [
       "99241"
      ]
     },
     "execution_count": 4,
     "metadata": {},
     "output_type": "execute_result"
    }
   ],
   "source": [
    "df = df.filter(\n",
    "    (col(\"EVENT_DATE_YEAR\") >= 2005)\n",
    ")\n",
    "df.show(5)\n",
    "df.select(\"SURVEY_ID\").count()"
   ]
  },
  {
   "cell_type": "code",
   "execution_count": 5,
   "id": "0d4b3d71",
   "metadata": {},
   "outputs": [
    {
     "name": "stdout",
     "output_type": "stream",
     "text": [
      "+--------+\n",
      "|AGE_BAND|\n",
      "+--------+\n",
      "|       3|\n",
      "|       3|\n",
      "|       3|\n",
      "|       3|\n",
      "|       3|\n",
      "|       3|\n",
      "|       3|\n",
      "|       3|\n",
      "|       3|\n",
      "|       3|\n",
      "+--------+\n",
      "only showing top 10 rows\n"
     ]
    },
    {
     "data": {
      "text/plain": [
       "99241"
      ]
     },
     "execution_count": 5,
     "metadata": {},
     "output_type": "execute_result"
    }
   ],
   "source": [
    "from pyspark.sql.functions import regexp_replace\n",
    "\n",
    "df = df.withColumn(\"AGE_BAND\", regexp_replace(\"AGE_BAND\", r\"\\+\", \"\"))\n",
    "df.select(\"AGE_BAND\").show(10)\n",
    "df.select(\"SURVEY_ID\").count()"
   ]
  },
  {
   "cell_type": "code",
   "execution_count": 6,
   "id": "52eaed05",
   "metadata": {},
   "outputs": [
    {
     "name": "stdout",
     "output_type": "stream",
     "text": [
      "+----------+------------+--------------------+-----+\n",
      "|SPECIES_ID|SPECIES_NAME|          LATIN_NAME|count|\n",
      "+----------+------------+--------------------+-----+\n",
      "|       151|      Barbel|       Barbus barbus| 1401|\n",
      "|       152|        Chub|  Leuciscus cephalus|22333|\n",
      "|       153|        Dace| Leuciscus leuciscus|19883|\n",
      "|       154|    Grayling| Thymallus thymallus| 2337|\n",
      "|       181|       Bleak|   Alburnus alburnus|  884|\n",
      "|       182|Common bream|       Abramis brama| 3579|\n",
      "|       193|     Gudgeon|         Gobio gobio| 1519|\n",
      "|       194|       Roach|     Rutilus rutilus|42640|\n",
      "|       196|        Rudd|Scardinius erythr...|  613|\n",
      "|       199|Silver bream|    Abramis bjoerkna|  474|\n",
      "|       211|       Perch|   Perca fluviatilis| 1948|\n",
      "|       213|        Pike|         Esox lucius| 1630|\n",
      "+----------+------------+--------------------+-----+\n",
      "\n"
     ]
    }
   ],
   "source": [
    "from pyspark.sql.functions import when\n",
    "from pyspark.sql.functions import first\n",
    "\n",
    "df = df.withColumn(\n",
    "    \"SPECIES_ID\",\n",
    "    when(col(\"SPECIES_ID\") == 212, 213).otherwise(col(\"SPECIES_ID\"))\n",
    ").withColumn(\n",
    "    \"SPECIES_NAME\",\n",
    "    when(col(\"SPECIES_NAME\") == \"Pike varieties\", \"Pike\").otherwise(col(\"SPECIES_NAME\"))\n",
    ")\n",
    "\n",
    "species_counts_post = df.groupBy(\"SPECIES_ID\", \"SPECIES_NAME\", \"LATIN_NAME\") \\\n",
    "    .count() \\\n",
    "    .orderBy(\"SPECIES_ID\", \"SPECIES_NAME\", \"LATIN_NAME\")\n",
    "species_counts_post.show()"
   ]
  },
  {
   "cell_type": "code",
   "execution_count": 7,
   "id": "76837945",
   "metadata": {},
   "outputs": [
    {
     "name": "stderr",
     "output_type": "stream",
     "text": [
      "[Stage 20:=============================>                            (1 + 1) / 2]\r"
     ]
    },
    {
     "name": "stdout",
     "output_type": "stream",
     "text": [
      "+------------+--------+---------+----+-------+----+---------+----+\n",
      "|SPECIES_NAME|AGE_BAND|very_slow|slow|average|fast|very_fast|n   |\n",
      "+------------+--------+---------+----+-------+----+---------+----+\n",
      "|Barbel      |0       |30       |36  |39     |44  |105      |19  |\n",
      "|Barbel      |1       |71       |96  |102    |107 |126      |150 |\n",
      "|Barbel      |2       |110      |142 |156    |165 |211      |237 |\n",
      "|Barbel      |3       |163      |193 |213    |222 |262      |177 |\n",
      "|Barbel      |4       |210      |247 |268    |276 |350      |78  |\n",
      "|Barbel      |5       |252      |310 |329    |350 |404      |78  |\n",
      "|Barbel      |6       |325      |390 |415    |450 |505      |62  |\n",
      "|Barbel      |7       |372      |452 |477    |493 |580      |79  |\n",
      "|Barbel      |8       |387      |452 |472    |496 |568      |74  |\n",
      "|Barbel      |9       |444      |495 |510    |527 |582      |87  |\n",
      "|Barbel      |10      |448      |505 |523    |544 |605      |84  |\n",
      "|Barbel      |11      |460      |534 |549    |570 |642      |69  |\n",
      "|Barbel      |12      |492      |525 |535    |574 |647      |49  |\n",
      "|Barbel      |13      |514      |564 |591    |607 |685      |55  |\n",
      "|Barbel      |14      |506      |582 |610    |620 |700      |41  |\n",
      "|Barbel      |15      |523      |595 |617    |645 |693      |26  |\n",
      "|Barbel      |16      |545      |620 |623    |640 |701      |14  |\n",
      "|Barbel      |17      |608      |647 |659    |679 |710      |12  |\n",
      "|Barbel      |18      |679      |679 |679    |709 |765      |4   |\n",
      "|Barbel      |19      |575      |669 |669    |701 |707      |4   |\n",
      "|Barbel      |20      |541      |541 |541    |579 |579      |2   |\n",
      "|Bleak       |0       |21       |25  |26     |27  |47       |102 |\n",
      "|Bleak       |1       |51       |65  |68     |72  |104      |175 |\n",
      "|Bleak       |2       |78       |92  |97     |101 |125      |272 |\n",
      "|Bleak       |3       |98       |113 |115    |120 |137      |209 |\n",
      "|Bleak       |4       |117      |126 |131    |134 |144      |104 |\n",
      "|Bleak       |5       |112      |126 |133    |145 |152      |20  |\n",
      "|Bleak       |6       |162      |162 |162    |162 |162      |1   |\n",
      "|Bleak       |7       |153      |153 |153    |153 |153      |1   |\n",
      "|Chub        |0       |25       |37  |41     |44  |70       |150 |\n",
      "|Chub        |1       |58       |75  |78     |84  |108      |1090|\n",
      "|Chub        |2       |83       |109 |115    |122 |147      |3256|\n",
      "|Chub        |3       |116      |145 |152    |159 |198      |3567|\n",
      "|Chub        |4       |154      |182 |190    |199 |241      |3293|\n",
      "|Chub        |5       |184      |220 |229    |239 |285      |2164|\n",
      "|Chub        |6       |214      |252 |265    |279 |336      |1623|\n",
      "|Chub        |7       |246      |293 |307    |321 |383      |1341|\n",
      "|Chub        |8       |278      |337 |351    |365 |420      |1095|\n",
      "|Chub        |9       |304      |361 |376    |391 |442      |1003|\n",
      "|Chub        |10      |326      |388 |399    |412 |453      |937 |\n",
      "|Chub        |11      |355      |409 |418    |428 |472      |756 |\n",
      "|Chub        |12      |372      |422 |434    |443 |485      |675 |\n",
      "|Chub        |13      |389      |434 |446    |456 |496      |536 |\n",
      "|Chub        |14      |404      |443 |455    |468 |502      |380 |\n",
      "|Chub        |15      |421      |452 |464    |478 |510      |243 |\n",
      "|Chub        |16      |430      |465 |475    |484 |520      |124 |\n",
      "|Chub        |17      |440      |472 |484    |491 |523      |63  |\n",
      "|Chub        |18      |440      |451 |466    |480 |503      |22  |\n",
      "|Chub        |19      |393      |475 |482    |506 |523      |10  |\n",
      "|Chub        |20      |448      |471 |517    |517 |534      |5   |\n",
      "|Common bream|0       |36       |46  |49     |53  |61       |45  |\n",
      "|Common bream|1       |56       |66  |70     |74  |97       |323 |\n",
      "|Common bream|2       |77       |100 |104    |109 |137      |686 |\n",
      "|Common bream|3       |107      |136 |143    |152 |192      |632 |\n",
      "|Common bream|4       |136      |168 |177    |187 |234      |462 |\n",
      "|Common bream|5       |171      |211 |221    |234 |296      |361 |\n",
      "|Common bream|6       |203      |254 |271    |286 |376      |238 |\n",
      "|Common bream|7       |234      |300 |321    |360 |415      |167 |\n",
      "|Common bream|8       |285      |355 |376    |395 |465      |149 |\n",
      "|Common bream|9       |294      |381 |396    |412 |487      |113 |\n",
      "|Common bream|10      |334      |420 |432    |442 |520      |97  |\n",
      "|Common bream|11      |376      |452 |465    |482 |536      |116 |\n",
      "|Common bream|12      |358      |455 |482    |490 |541      |65  |\n",
      "|Common bream|13      |430      |467 |472    |477 |560      |50  |\n",
      "|Common bream|14      |413      |458 |471    |486 |522      |26  |\n",
      "|Common bream|15      |445      |476 |486    |489 |510      |25  |\n",
      "|Common bream|16      |462      |474 |487    |500 |535      |14  |\n",
      "|Common bream|17      |472      |477 |477    |502 |554      |4   |\n",
      "|Common bream|18      |445      |483 |483    |483 |505      |4   |\n",
      "|Common bream|19      |467      |467 |467    |472 |472      |2   |\n",
      "|Dace        |0       |35       |46  |49     |52  |65       |507 |\n",
      "|Dace        |1       |63       |82  |86     |91  |112      |3481|\n",
      "|Dace        |2       |91       |113 |119    |125 |151      |5810|\n",
      "|Dace        |3       |123      |146 |152    |158 |182      |4612|\n",
      "|Dace        |4       |150      |171 |176    |181 |205      |3037|\n",
      "|Dace        |5       |170      |190 |195    |200 |222      |1435|\n",
      "|Dace        |6       |188      |207 |211    |215 |241      |621 |\n",
      "|Dace        |7       |199      |216 |220    |226 |247      |245 |\n",
      "|Dace        |8       |203      |225 |230    |232 |256      |103 |\n",
      "|Dace        |9       |203      |225 |235    |238 |253      |25  |\n",
      "|Dace        |10      |232      |236 |236    |249 |300      |6   |\n",
      "|Dace        |11      |286      |286 |286    |286 |286      |1   |\n",
      "|Grayling    |0       |64       |88  |93     |97  |124      |483 |\n",
      "|Grayling    |1       |134      |185 |191    |197 |227      |994 |\n",
      "|Grayling    |2       |218      |246 |254    |263 |295      |582 |\n",
      "|Grayling    |3       |247      |280 |290    |297 |342      |209 |\n",
      "|Grayling    |4       |269      |314 |323    |338 |385      |61  |\n",
      "|Grayling    |5       |285      |331 |343    |356 |400      |7   |\n",
      "|Grayling    |10      |408      |408 |408    |408 |408      |1   |\n",
      "|Gudgeon     |0       |30       |40  |44     |50  |65       |80  |\n",
      "|Gudgeon     |1       |62       |74  |78     |84  |104      |296 |\n",
      "|Gudgeon     |2       |87       |102 |105    |108 |122      |797 |\n",
      "|Gudgeon     |3       |105      |118 |122    |126 |138      |273 |\n",
      "|Gudgeon     |4       |123      |133 |136    |139 |149      |63  |\n",
      "|Gudgeon     |5       |106      |148 |150    |151 |161      |9   |\n",
      "|Gudgeon     |7       |160      |160 |160    |160 |160      |1   |\n",
      "|Perch       |0       |49       |60  |64     |70  |94       |119 |\n",
      "|Perch       |1       |77       |101 |107    |113 |144      |548 |\n",
      "|Perch       |2       |119      |144 |152    |159 |197      |597 |\n",
      "|Perch       |3       |145      |173 |185    |195 |255      |310 |\n",
      "+------------+--------+---------+----+-------+----+---------+----+\n",
      "only showing top 100 rows\n"
     ]
    },
    {
     "name": "stderr",
     "output_type": "stream",
     "text": [
      "                                                                                \r"
     ]
    }
   ],
   "source": [
    "from pyspark.sql.functions import expr\n",
    "\n",
    "# List of quantiles to compute\n",
    "quantiles = [0.1, 0.4, 0.5, 0.6, 0.9]\n",
    "\n",
    "# For each species and age, compute the quantiles of FISH_LENGTH\n",
    "growth_curves = (\n",
    "    df.groupBy(\"SPECIES_NAME\", \"AGE_BAND\")\n",
    "      .agg(\n",
    "          expr(\"percentile_approx(FISH_LENGTH, 0.1) as very_slow\"),\n",
    "          expr(\"percentile_approx(FISH_LENGTH, 0.4) as slow\"),\n",
    "          expr(\"percentile_approx(FISH_LENGTH, 0.5) as average\"),\n",
    "          expr(\"percentile_approx(FISH_LENGTH, 0.6) as fast\"),\n",
    "          expr(\"percentile_approx(FISH_LENGTH, 0.9) as very_fast\"),\n",
    "          expr(\"count(FISH_LENGTH) as n\")\n",
    "      )\n",
    "      .orderBy(\"SPECIES_NAME\", expr(\"cast(AGE_BAND as int)\"))\n",
    ")\n",
    "\n",
    "growth_curves.show(100, truncate=False)"
   ]
  },
  {
   "cell_type": "code",
   "execution_count": 8,
   "id": "d957b09d",
   "metadata": {},
   "outputs": [
    {
     "name": "stderr",
     "output_type": "stream",
     "text": [
      "                                                                                \r"
     ]
    }
   ],
   "source": [
    "growth_curves.coalesce(1).write.mode(\"overwrite\").option(\"header\", True).csv(\"outputs/growth_curves.csv\")"
   ]
  },
  {
   "cell_type": "code",
   "execution_count": 9,
   "id": "5a9a009c",
   "metadata": {},
   "outputs": [
    {
     "name": "stderr",
     "output_type": "stream",
     "text": [
      "[Stage 31:=============================>                            (1 + 1) / 2]\r"
     ]
    },
    {
     "name": "stdout",
     "output_type": "stream",
     "text": [
      "+------------+--------+---------+---------+----+-------+----+---------+----+\n",
      "|SPECIES_NAME|AGE_BAND|region_ns|very_slow|slow|average|fast|very_fast|n   |\n",
      "+------------+--------+---------+---------+----+-------+----+---------+----+\n",
      "|Barbel      |0       |North    |66       |66  |66     |66  |66       |1   |\n",
      "|Barbel      |0       |South    |30       |36  |38     |44  |105      |18  |\n",
      "|Barbel      |1       |North    |62       |82  |91     |94  |112      |41  |\n",
      "|Barbel      |1       |South    |82       |102 |105    |110 |132      |109 |\n",
      "|Barbel      |2       |North    |113      |129 |132    |137 |195      |70  |\n",
      "|Barbel      |2       |South    |108      |156 |165    |175 |215      |167 |\n",
      "|Barbel      |3       |North    |159      |177 |181    |190 |241      |62  |\n",
      "|Barbel      |3       |South    |165      |215 |223    |229 |272      |115 |\n",
      "|Barbel      |4       |North    |214      |247 |263    |272 |360      |28  |\n",
      "|Barbel      |4       |South    |209      |246 |268    |278 |340      |50  |\n",
      "|Barbel      |5       |North    |269      |333 |350    |365 |385      |35  |\n",
      "|Barbel      |5       |South    |244      |302 |313    |329 |432      |43  |\n",
      "|Barbel      |6       |North    |350      |377 |394    |456 |491      |20  |\n",
      "|Barbel      |6       |South    |310      |392 |415    |448 |541      |42  |\n",
      "|Barbel      |7       |North    |400      |473 |477    |486 |550      |32  |\n",
      "|Barbel      |7       |South    |372      |451 |467    |495 |590      |47  |\n",
      "|Barbel      |8       |North    |387      |454 |470    |488 |558      |32  |\n",
      "|Barbel      |8       |South    |400      |441 |482    |496 |568      |42  |\n",
      "|Barbel      |9       |North    |446      |491 |497    |510 |575      |33  |\n",
      "|Barbel      |9       |South    |444      |501 |514    |529 |582      |54  |\n",
      "|Barbel      |10      |North    |453      |513 |520    |544 |598      |32  |\n",
      "|Barbel      |10      |South    |438      |501 |523    |544 |618      |52  |\n",
      "|Barbel      |11      |North    |448      |531 |534    |553 |613      |24  |\n",
      "|Barbel      |11      |South    |469      |538 |567    |576 |642      |45  |\n",
      "|Barbel      |12      |North    |487      |510 |527    |544 |605      |20  |\n",
      "|Barbel      |12      |South    |506      |526 |560    |583 |655      |29  |\n",
      "|Barbel      |13      |North    |514      |552 |591    |627 |652      |23  |\n",
      "|Barbel      |13      |South    |515      |581 |590    |607 |713      |32  |\n",
      "|Barbel      |14      |North    |475      |544 |598    |606 |677      |20  |\n",
      "|Barbel      |14      |South    |530      |614 |624    |630 |732      |21  |\n",
      "|Barbel      |15      |North    |523      |547 |552    |589 |645      |9   |\n",
      "|Barbel      |15      |South    |510      |617 |655    |665 |721      |17  |\n",
      "|Barbel      |16      |North    |615      |623 |632    |640 |701      |7   |\n",
      "|Barbel      |16      |South    |521      |573 |592    |669 |703      |7   |\n",
      "|Barbel      |17      |South    |608      |647 |659    |679 |710      |12  |\n",
      "|Barbel      |18      |North    |679      |679 |679    |679 |679      |2   |\n",
      "|Barbel      |18      |South    |709      |709 |709    |765 |765      |2   |\n",
      "|Barbel      |19      |South    |575      |669 |669    |701 |707      |4   |\n",
      "|Barbel      |20      |South    |541      |541 |541    |579 |579      |2   |\n",
      "|Bleak       |0       |North    |61       |63  |64     |66  |68       |7   |\n",
      "|Bleak       |0       |South    |21       |24  |26     |26  |30       |95  |\n",
      "|Bleak       |1       |North    |49       |63  |68     |71  |96       |121 |\n",
      "|Bleak       |1       |South    |55       |65  |69     |87  |121      |54  |\n",
      "|Bleak       |2       |North    |80       |92  |97     |101 |121      |174 |\n",
      "|Bleak       |2       |South    |74       |93  |98     |100 |130      |98  |\n",
      "|Bleak       |3       |North    |101      |114 |117    |121 |137      |153 |\n",
      "|Bleak       |3       |South    |91       |106 |109    |115 |130      |56  |\n",
      "|Bleak       |4       |North    |119      |127 |131    |134 |144      |82  |\n",
      "|Bleak       |4       |South    |111      |125 |127    |131 |140      |22  |\n",
      "|Bleak       |5       |North    |130      |145 |147    |148 |156      |10  |\n",
      "|Bleak       |5       |South    |112      |115 |118    |119 |148      |10  |\n",
      "|Bleak       |6       |North    |162      |162 |162    |162 |162      |1   |\n",
      "|Bleak       |7       |North    |153      |153 |153    |153 |153      |1   |\n",
      "|Chub        |0       |North    |36       |41  |43     |44  |67       |35  |\n",
      "|Chub        |0       |South    |24       |33  |39     |44  |70       |115 |\n",
      "|Chub        |1       |North    |53       |68  |74     |79  |99       |162 |\n",
      "|Chub        |1       |South    |60       |75  |79     |85  |110      |928 |\n",
      "|Chub        |2       |North    |96       |117 |123    |127 |143      |597 |\n",
      "|Chub        |2       |South    |80       |106 |114    |120 |150      |2659|\n",
      "|Chub        |3       |North    |126      |149 |152    |155 |195      |405 |\n",
      "|Chub        |3       |South    |115      |144 |152    |160 |199      |3162|\n",
      "|Chub        |4       |North    |162      |183 |190    |197 |234      |511 |\n",
      "|Chub        |4       |South    |152      |182 |190    |199 |242      |2782|\n",
      "|Chub        |5       |North    |210      |232 |241    |253 |297      |350 |\n",
      "|Chub        |5       |South    |181      |216 |226    |236 |282      |1814|\n",
      "|Chub        |6       |North    |232      |256 |268    |281 |332      |353 |\n",
      "|Chub        |6       |South    |210      |251 |264    |278 |336      |1270|\n",
      "|Chub        |7       |North    |257      |305 |319    |332 |381      |304 |\n",
      "|Chub        |7       |South    |243      |290 |302    |317 |384      |1037|\n",
      "|Chub        |8       |North    |302      |347 |355    |368 |414      |172 |\n",
      "|Chub        |8       |South    |275      |335 |349    |364 |420      |923 |\n",
      "|Chub        |9       |North    |306      |364 |375    |392 |433      |218 |\n",
      "|Chub        |9       |South    |303      |360 |376    |390 |449      |785 |\n",
      "|Chub        |10      |North    |331      |382 |395    |405 |441      |246 |\n",
      "|Chub        |10      |South    |323      |389 |401    |415 |456      |691 |\n",
      "|Chub        |11      |North    |369      |409 |418    |425 |465      |143 |\n",
      "|Chub        |11      |South    |352      |409 |418    |430 |473      |613 |\n",
      "|Chub        |12      |North    |385      |420 |427    |437 |479      |122 |\n",
      "|Chub        |12      |South    |369      |425 |435    |444 |485      |553 |\n",
      "|Chub        |13      |North    |393      |433 |448    |455 |493      |104 |\n",
      "|Chub        |13      |South    |388      |434 |445    |457 |496      |432 |\n",
      "|Chub        |14      |North    |414      |447 |455    |465 |509      |67  |\n",
      "|Chub        |14      |South    |404      |441 |455    |468 |502      |313 |\n",
      "|Chub        |15      |North    |431      |458 |475    |483 |522      |70  |\n",
      "|Chub        |15      |South    |416      |450 |462    |472 |507      |173 |\n",
      "|Chub        |16      |North    |442      |485 |501    |505 |524      |30  |\n",
      "|Chub        |16      |South    |424      |460 |468    |480 |514      |94  |\n",
      "|Chub        |17      |North    |434      |472 |495    |502 |551      |15  |\n",
      "|Chub        |17      |South    |440      |472 |482    |489 |513      |48  |\n",
      "|Chub        |18      |North    |441      |450 |475    |480 |503      |9   |\n",
      "|Chub        |18      |South    |434      |452 |466    |468 |517      |13  |\n",
      "|Chub        |19      |North    |482      |482 |482    |542 |542      |2   |\n",
      "|Chub        |19      |South    |393      |475 |475    |506 |523      |8   |\n",
      "|Chub        |20      |North    |448      |528 |528    |528 |534      |3   |\n",
      "|Chub        |20      |South    |471      |471 |471    |517 |517      |2   |\n",
      "|Common bream|0       |North    |36       |42  |46     |47  |61       |15  |\n",
      "|Common bream|0       |South    |36       |48  |51     |55  |61       |30  |\n",
      "|Common bream|1       |North    |55       |65  |66     |68  |84       |23  |\n",
      "|Common bream|1       |South    |56       |66  |71     |75  |97       |300 |\n",
      "|Common bream|2       |North    |69       |92  |99     |108 |152      |46  |\n",
      "+------------+--------+---------+---------+----+-------+----+---------+----+\n",
      "only showing top 100 rows\n"
     ]
    },
    {
     "name": "stderr",
     "output_type": "stream",
     "text": [
      "                                                                                \r"
     ]
    }
   ],
   "source": [
    "from pyspark.sql.functions import expr, when, col\n",
    "\n",
    "# Define the centre of England (British National Grid)\n",
    "centre_northing = 350000\n",
    "\n",
    "# Add a region column: 'North' if northing >= centre, else 'South'\n",
    "df_region = df.withColumn(\n",
    "    \"region_ns\",\n",
    "    when(col(\"SURVEY_RANKED_NORTHING\") >= centre_northing, \"North\").otherwise(\"South\")\n",
    ")\n",
    "\n",
    "# For each species, age, and region, compute the quantiles of FISH_LENGTH\n",
    "growth_curves_region = (\n",
    "    df_region.groupBy(\"SPECIES_NAME\", \"AGE_BAND\", \"region_ns\")\n",
    "      .agg(\n",
    "          expr(\"percentile_approx(FISH_LENGTH, 0.1) as very_slow\"),\n",
    "          expr(\"percentile_approx(FISH_LENGTH, 0.4) as slow\"),\n",
    "          expr(\"percentile_approx(FISH_LENGTH, 0.5) as average\"),\n",
    "          expr(\"percentile_approx(FISH_LENGTH, 0.6) as fast\"),\n",
    "          expr(\"percentile_approx(FISH_LENGTH, 0.9) as very_fast\"),\n",
    "          expr(\"count(FISH_LENGTH) as n\")\n",
    "      )\n",
    "      .orderBy(\"SPECIES_NAME\", expr(\"cast(AGE_BAND as int)\"), \"region_ns\")\n",
    ")\n",
    "\n",
    "growth_curves_region.show(100, truncate=False)"
   ]
  },
  {
   "cell_type": "code",
   "execution_count": 10,
   "id": "6dd839e4",
   "metadata": {},
   "outputs": [
    {
     "name": "stderr",
     "output_type": "stream",
     "text": [
      "                                                                                \r"
     ]
    }
   ],
   "source": [
    "growth_curves_region.coalesce(1).write.mode(\"overwrite\").option(\"header\", True).csv(\"outputs/growth_curves_region.csv\")"
   ]
  },
  {
   "cell_type": "code",
   "execution_count": 11,
   "id": "65a27809",
   "metadata": {},
   "outputs": [
    {
     "name": "stderr",
     "output_type": "stream",
     "text": [
      "[Stage 42:=============================>                            (1 + 1) / 2]\r"
     ]
    },
    {
     "name": "stdout",
     "output_type": "stream",
     "text": [
      "+------------+-----------+-----------+-----------+\n",
      "|SPECIES_NAME|north_count|south_count|total_count|\n",
      "+------------+-----------+-----------+-----------+\n",
      "|Roach       |5692       |36948      |42640      |\n",
      "|Chub        |3918       |18415      |22333      |\n",
      "|Bleak       |549        |335        |884        |\n",
      "|Rudd        |11         |602        |613        |\n",
      "|Barbel      |491        |910        |1401       |\n",
      "|Dace        |2871       |17012      |19883      |\n",
      "|Common bream|277        |3302       |3579       |\n",
      "|Pike        |784        |846        |1630       |\n",
      "|Gudgeon     |1351       |168        |1519       |\n",
      "|Perch       |1245       |703        |1948       |\n",
      "|Grayling    |1775       |562        |2337       |\n",
      "|Silver bream|22         |452        |474        |\n",
      "+------------+-----------+-----------+-----------+\n",
      "\n"
     ]
    },
    {
     "name": "stderr",
     "output_type": "stream",
     "text": [
      "                                                                                \r"
     ]
    }
   ],
   "source": [
    "from pyspark.sql.functions import sum as spark_sum\n",
    "\n",
    "# Aggregate counts for each species by summing 'n' for North and South\n",
    "species_region_counts = (\n",
    "    growth_curves_region.groupBy(\"SPECIES_NAME\")\n",
    "    .agg(\n",
    "        spark_sum(\n",
    "            when(col(\"region_ns\") == \"North\", col(\"n\")).otherwise(0)\n",
    "        ).alias(\"north_count\"),\n",
    "        spark_sum(\n",
    "            when(col(\"region_ns\") == \"South\", col(\"n\")).otherwise(0)\n",
    "        ).alias(\"south_count\"),\n",
    "        spark_sum(\"n\").alias(\"total_count\")\n",
    "    )\n",
    ")\n",
    "\n",
    "species_region_counts.show(truncate=False)"
   ]
  },
  {
   "cell_type": "code",
   "execution_count": 13,
   "id": "1225f799",
   "metadata": {},
   "outputs": [],
   "source": [
    "import pandas as pd\n",
    "\n",
    "# Collect the growth_curves DataFrame to a Pandas DataFrame\n",
    "growth_curves_pd = growth_curves.toPandas()\n",
    "\n",
    "# Create a Pandas Excel writer using XlsxWriter as the engine\n",
    "with pd.ExcelWriter(\"outputs/growth_curves_by_species.xlsx\", engine=\"xlsxwriter\") as writer:\n",
    "    for species, group in growth_curves_pd.groupby(\"SPECIES_NAME\"):\n",
    "        group.to_excel(writer, sheet_name=species[:31], index=False)"
   ]
  }
 ],
 "metadata": {
  "kernelspec": {
   "display_name": "Python 3",
   "language": "python",
   "name": "python3"
  },
  "language_info": {
   "codemirror_mode": {
    "name": "ipython",
    "version": 3
   },
   "file_extension": ".py",
   "mimetype": "text/x-python",
   "name": "python",
   "nbconvert_exporter": "python",
   "pygments_lexer": "ipython3",
   "version": "3.12.1"
  }
 },
 "nbformat": 4,
 "nbformat_minor": 5
}
