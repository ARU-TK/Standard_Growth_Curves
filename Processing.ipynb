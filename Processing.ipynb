{
 "cells": [
  {
   "cell_type": "code",
   "execution_count": null,
   "id": "f9712407",
   "metadata": {},
   "outputs": [
    {
     "name": "stderr",
     "output_type": "stream",
     "text": [
      "                                                                                \r"
     ]
    },
    {
     "name": "stdout",
     "output_type": "stream",
     "text": [
      "root\n",
      " |-- SURVEY_ID: integer (nullable = true)\n",
      " |-- SURVEY_SPECIES_ID: integer (nullable = true)\n",
      " |-- SPECIES_ID: integer (nullable = true)\n",
      " |-- SPECIES_RUN_ID: integer (nullable = true)\n",
      " |-- RUN_NUMBER: integer (nullable = true)\n",
      " |-- LW_MEASURED_ID: integer (nullable = true)\n",
      " |-- FISH_LENGTH: integer (nullable = true)\n",
      " |-- FISH_WEIGHT: double (nullable = true)\n",
      " |-- AGE_BAND: string (nullable = true)\n",
      " |-- NALL_AGE: string (nullable = true)\n",
      "\n",
      "+---------+-----------------+----------+--------------+----------+--------------+-----------+-----------+--------+--------+\n",
      "|SURVEY_ID|SURVEY_SPECIES_ID|SPECIES_ID|SPECIES_RUN_ID|RUN_NUMBER|LW_MEASURED_ID|FISH_LENGTH|FISH_WEIGHT|AGE_BAND|NALL_AGE|\n",
      "+---------+-----------------+----------+--------------+----------+--------------+-----------+-----------+--------+--------+\n",
      "|   176011|           758857|       111|       1007731|         2|       9498746|        134|       NULL|      >0|    NULL|\n",
      "|   176011|           758857|       111|       1007731|         2|       9498747|        135|       NULL|      >0|    NULL|\n",
      "|   176011|           758857|       111|       1007731|         2|       9498748|        137|       NULL|      >0|    NULL|\n",
      "|   176011|           758857|       111|       1007730|         1|       9498712|        235|       NULL|      >0|    NULL|\n",
      "|   176011|           758857|       111|       1007730|         1|       9498716|        263|       NULL|      >0|    NULL|\n",
      "+---------+-----------------+----------+--------------+----------+--------------+-----------+-----------+--------+--------+\n",
      "only showing top 5 rows\n"
     ]
    }
   ],
   "source": [
    "from pyspark.sql import SparkSession\n",
    "import pandas as pd \n",
    "\n",
    "spark = SparkSession.builder.getOrCreate()\n",
    "\n",
    "# Read CSV file\n",
    "csv_df = spark.read.csv(\"raw_data/FW_Fish_Individual_Lengths.csv\", header=True, inferSchema=True, multiLine=True)\n",
    "\n",
    "csv_df.write.mode(\"overwrite\").parquet(\"working_data/FW_Fish_Individual_Lengths.parquet\")"
   ]
  },
  {
   "cell_type": "code",
   "execution_count": 3,
   "id": "87418830",
   "metadata": {},
   "outputs": [
    {
     "name": "stderr",
     "output_type": "stream",
     "text": [
      "WARNING: Using incubator modules: jdk.incubator.vector\n",
      "Using Spark's default log4j profile: org/apache/spark/log4j2-defaults.properties\n",
      "25/07/03 16:19:04 WARN Utils: Your hostname, codespaces-6557a2, resolves to a loopback address: 127.0.0.1; using 10.0.1.161 instead (on interface eth0)\n",
      "25/07/03 16:19:04 WARN Utils: Set SPARK_LOCAL_IP if you need to bind to another address\n",
      "Using Spark's default log4j profile: org/apache/spark/log4j2-defaults.properties\n",
      "Setting default log level to \"WARN\".\n",
      "To adjust logging level use sc.setLogLevel(newLevel). For SparkR, use setLogLevel(newLevel).\n",
      "25/07/03 16:19:05 WARN NativeCodeLoader: Unable to load native-hadoop library for your platform... using builtin-java classes where applicable\n",
      "                                                                                \r"
     ]
    },
    {
     "name": "stdout",
     "output_type": "stream",
     "text": [
      "root\n",
      " |-- SURVEY_ID: integer (nullable = true)\n",
      " |-- SURVEY_SPECIES_ID: integer (nullable = true)\n",
      " |-- SPECIES_ID: integer (nullable = true)\n",
      " |-- SPECIES_RUN_ID: integer (nullable = true)\n",
      " |-- RUN_NUMBER: integer (nullable = true)\n",
      " |-- LW_MEASURED_ID: integer (nullable = true)\n",
      " |-- FISH_LENGTH: integer (nullable = true)\n",
      " |-- FISH_WEIGHT: double (nullable = true)\n",
      " |-- AGE_BAND: string (nullable = true)\n",
      " |-- NALL_AGE: string (nullable = true)\n",
      "\n"
     ]
    },
    {
     "name": "stderr",
     "output_type": "stream",
     "text": [
      "[Stage 1:>                                                          (0 + 1) / 1]\r"
     ]
    },
    {
     "name": "stdout",
     "output_type": "stream",
     "text": [
      "+---------+-----------------+----------+--------------+----------+--------------+-----------+-----------+--------+--------+\n",
      "|SURVEY_ID|SURVEY_SPECIES_ID|SPECIES_ID|SPECIES_RUN_ID|RUN_NUMBER|LW_MEASURED_ID|FISH_LENGTH|FISH_WEIGHT|AGE_BAND|NALL_AGE|\n",
      "+---------+-----------------+----------+--------------+----------+--------------+-----------+-----------+--------+--------+\n",
      "|   176011|           758857|       111|       1007731|         2|       9498746|        134|       NULL|      >0|    NULL|\n",
      "|   176011|           758857|       111|       1007731|         2|       9498747|        135|       NULL|      >0|    NULL|\n",
      "|   176011|           758857|       111|       1007731|         2|       9498748|        137|       NULL|      >0|    NULL|\n",
      "|   176011|           758857|       111|       1007730|         1|       9498712|        235|       NULL|      >0|    NULL|\n",
      "|   176011|           758857|       111|       1007730|         1|       9498716|        263|       NULL|      >0|    NULL|\n",
      "+---------+-----------------+----------+--------------+----------+--------------+-----------+-----------+--------+--------+\n",
      "only showing top 5 rows\n"
     ]
    },
    {
     "name": "stderr",
     "output_type": "stream",
     "text": [
      "                                                                                \r"
     ]
    }
   ],
   "source": [
    "from pyspark.sql import SparkSession\n",
    "\n",
    "spark = SparkSession.builder.getOrCreate()\n",
    "\n",
    "# Read the Parquet file\n",
    "df = spark.read.parquet(\"working_data/FW_Fish_Individual_Lengths.parquet\")\n",
    "\n",
    "df.printSchema()\n",
    "df.show(5)"
   ]
  },
  {
   "cell_type": "code",
   "execution_count": 4,
   "id": "5831e414",
   "metadata": {},
   "outputs": [
    {
     "name": "stdout",
     "output_type": "stream",
     "text": [
      "CSV file size: 302376.03 KB\n",
      "Parquet file size: 48593.09 KB\n",
      "Parquet file size is 16.07% of CSV file size\n"
     ]
    }
   ],
   "source": [
    "import os\n",
    "\n",
    "csv_path = \"raw_data/FW_Fish_Individual_Lengths.csv\"\n",
    "parquet_dir = \"working_data/FW_Fish_Individual_Lengths.parquet\"\n",
    "\n",
    "# Get CSV file size\n",
    "csv_size = os.path.getsize(csv_path)\n",
    "\n",
    "# Get Parquet directory total size\n",
    "parquet_size = 0\n",
    "for dirpath, dirnames, filenames in os.walk(parquet_dir):\n",
    "    for f in filenames:\n",
    "        fp = os.path.join(dirpath, f)\n",
    "        parquet_size += os.path.getsize(fp)\n",
    "\n",
    "print(f\"CSV file size: {csv_size / 1024:.2f} KB\")\n",
    "print(f\"Parquet file size: {parquet_size / 1024:.2f} KB\")\n",
    "print(f\"Parquet file size is {parquet_size / csv_size * 100 :.2f}% of CSV file size\")"
   ]
  },
  {
   "cell_type": "code",
   "execution_count": 5,
   "id": "c6e381e8",
   "metadata": {},
   "outputs": [
    {
     "name": "stderr",
     "output_type": "stream",
     "text": [
      "25/07/03 16:19:25 WARN SparkStringUtils: Truncated the string representation of a plan since it was too large. This behavior can be adjusted by setting 'spark.sql.debug.maxToStringFields'.\n",
      "ERROR:root:KeyboardInterrupt while sending command.                 (1 + 1) / 2]\n",
      "Traceback (most recent call last):\n",
      "  File \"/usr/local/python/3.12.1/lib/python3.12/site-packages/py4j/java_gateway.py\", line 1038, in send_command\n",
      "    response = connection.send_command(command)\n",
      "               ^^^^^^^^^^^^^^^^^^^^^^^^^^^^^^^^\n",
      "  File \"/usr/local/python/3.12.1/lib/python3.12/site-packages/py4j/clientserver.py\", line 535, in send_command\n",
      "    answer = smart_decode(self.stream.readline()[:-1])\n",
      "                          ^^^^^^^^^^^^^^^^^^^^^^\n",
      "  File \"/usr/local/python/3.12.1/lib/python3.12/socket.py\", line 707, in readinto\n",
      "    return self._sock.recv_into(b)\n",
      "           ^^^^^^^^^^^^^^^^^^^^^^^\n",
      "KeyboardInterrupt\n"
     ]
    },
    {
     "ename": "KeyboardInterrupt",
     "evalue": "",
     "output_type": "error",
     "traceback": [
      "\u001b[31m---------------------------------------------------------------------------\u001b[39m",
      "\u001b[31mKeyboardInterrupt\u001b[39m                         Traceback (most recent call last)",
      "\u001b[36mCell\u001b[39m\u001b[36m \u001b[39m\u001b[32mIn[5]\u001b[39m\u001b[32m, line 1\u001b[39m\n\u001b[32m----> \u001b[39m\u001b[32m1\u001b[39m \u001b[43mdf\u001b[49m\u001b[43m.\u001b[49m\u001b[43mdescribe\u001b[49m\u001b[43m(\u001b[49m\u001b[43m)\u001b[49m\u001b[43m.\u001b[49m\u001b[43mshow\u001b[49m\u001b[43m(\u001b[49m\u001b[43m)\u001b[49m\n",
      "\u001b[36mFile \u001b[39m\u001b[32m/usr/local/python/3.12.1/lib/python3.12/site-packages/pyspark/sql/classic/dataframe.py:285\u001b[39m, in \u001b[36mDataFrame.show\u001b[39m\u001b[34m(self, n, truncate, vertical)\u001b[39m\n\u001b[32m    284\u001b[39m \u001b[38;5;28;01mdef\u001b[39;00m\u001b[38;5;250m \u001b[39m\u001b[34mshow\u001b[39m(\u001b[38;5;28mself\u001b[39m, n: \u001b[38;5;28mint\u001b[39m = \u001b[32m20\u001b[39m, truncate: Union[\u001b[38;5;28mbool\u001b[39m, \u001b[38;5;28mint\u001b[39m] = \u001b[38;5;28;01mTrue\u001b[39;00m, vertical: \u001b[38;5;28mbool\u001b[39m = \u001b[38;5;28;01mFalse\u001b[39;00m) -> \u001b[38;5;28;01mNone\u001b[39;00m:\n\u001b[32m--> \u001b[39m\u001b[32m285\u001b[39m     \u001b[38;5;28mprint\u001b[39m(\u001b[38;5;28;43mself\u001b[39;49m\u001b[43m.\u001b[49m\u001b[43m_show_string\u001b[49m\u001b[43m(\u001b[49m\u001b[43mn\u001b[49m\u001b[43m,\u001b[49m\u001b[43m \u001b[49m\u001b[43mtruncate\u001b[49m\u001b[43m,\u001b[49m\u001b[43m \u001b[49m\u001b[43mvertical\u001b[49m\u001b[43m)\u001b[49m)\n",
      "\u001b[36mFile \u001b[39m\u001b[32m/usr/local/python/3.12.1/lib/python3.12/site-packages/pyspark/sql/classic/dataframe.py:303\u001b[39m, in \u001b[36mDataFrame._show_string\u001b[39m\u001b[34m(self, n, truncate, vertical)\u001b[39m\n\u001b[32m    297\u001b[39m     \u001b[38;5;28;01mraise\u001b[39;00m PySparkTypeError(\n\u001b[32m    298\u001b[39m         errorClass=\u001b[33m\"\u001b[39m\u001b[33mNOT_BOOL\u001b[39m\u001b[33m\"\u001b[39m,\n\u001b[32m    299\u001b[39m         messageParameters={\u001b[33m\"\u001b[39m\u001b[33marg_name\u001b[39m\u001b[33m\"\u001b[39m: \u001b[33m\"\u001b[39m\u001b[33mvertical\u001b[39m\u001b[33m\"\u001b[39m, \u001b[33m\"\u001b[39m\u001b[33marg_type\u001b[39m\u001b[33m\"\u001b[39m: \u001b[38;5;28mtype\u001b[39m(vertical).\u001b[34m__name__\u001b[39m},\n\u001b[32m    300\u001b[39m     )\n\u001b[32m    302\u001b[39m \u001b[38;5;28;01mif\u001b[39;00m \u001b[38;5;28misinstance\u001b[39m(truncate, \u001b[38;5;28mbool\u001b[39m) \u001b[38;5;129;01mand\u001b[39;00m truncate:\n\u001b[32m--> \u001b[39m\u001b[32m303\u001b[39m     \u001b[38;5;28;01mreturn\u001b[39;00m \u001b[38;5;28;43mself\u001b[39;49m\u001b[43m.\u001b[49m\u001b[43m_jdf\u001b[49m\u001b[43m.\u001b[49m\u001b[43mshowString\u001b[49m\u001b[43m(\u001b[49m\u001b[43mn\u001b[49m\u001b[43m,\u001b[49m\u001b[43m \u001b[49m\u001b[32;43m20\u001b[39;49m\u001b[43m,\u001b[49m\u001b[43m \u001b[49m\u001b[43mvertical\u001b[49m\u001b[43m)\u001b[49m\n\u001b[32m    304\u001b[39m \u001b[38;5;28;01melse\u001b[39;00m:\n\u001b[32m    305\u001b[39m     \u001b[38;5;28;01mtry\u001b[39;00m:\n",
      "\u001b[36mFile \u001b[39m\u001b[32m/usr/local/python/3.12.1/lib/python3.12/site-packages/py4j/java_gateway.py:1361\u001b[39m, in \u001b[36mJavaMember.__call__\u001b[39m\u001b[34m(self, *args)\u001b[39m\n\u001b[32m   1354\u001b[39m args_command, temp_args = \u001b[38;5;28mself\u001b[39m._build_args(*args)\n\u001b[32m   1356\u001b[39m command = proto.CALL_COMMAND_NAME +\\\n\u001b[32m   1357\u001b[39m     \u001b[38;5;28mself\u001b[39m.command_header +\\\n\u001b[32m   1358\u001b[39m     args_command +\\\n\u001b[32m   1359\u001b[39m     proto.END_COMMAND_PART\n\u001b[32m-> \u001b[39m\u001b[32m1361\u001b[39m answer = \u001b[38;5;28;43mself\u001b[39;49m\u001b[43m.\u001b[49m\u001b[43mgateway_client\u001b[49m\u001b[43m.\u001b[49m\u001b[43msend_command\u001b[49m\u001b[43m(\u001b[49m\u001b[43mcommand\u001b[49m\u001b[43m)\u001b[49m\n\u001b[32m   1362\u001b[39m return_value = get_return_value(\n\u001b[32m   1363\u001b[39m     answer, \u001b[38;5;28mself\u001b[39m.gateway_client, \u001b[38;5;28mself\u001b[39m.target_id, \u001b[38;5;28mself\u001b[39m.name)\n\u001b[32m   1365\u001b[39m \u001b[38;5;28;01mfor\u001b[39;00m temp_arg \u001b[38;5;129;01min\u001b[39;00m temp_args:\n",
      "\u001b[36mFile \u001b[39m\u001b[32m/usr/local/python/3.12.1/lib/python3.12/site-packages/py4j/java_gateway.py:1038\u001b[39m, in \u001b[36mGatewayClient.send_command\u001b[39m\u001b[34m(self, command, retry, binary)\u001b[39m\n\u001b[32m   1036\u001b[39m connection = \u001b[38;5;28mself\u001b[39m._get_connection()\n\u001b[32m   1037\u001b[39m \u001b[38;5;28;01mtry\u001b[39;00m:\n\u001b[32m-> \u001b[39m\u001b[32m1038\u001b[39m     response = \u001b[43mconnection\u001b[49m\u001b[43m.\u001b[49m\u001b[43msend_command\u001b[49m\u001b[43m(\u001b[49m\u001b[43mcommand\u001b[49m\u001b[43m)\u001b[49m\n\u001b[32m   1039\u001b[39m     \u001b[38;5;28;01mif\u001b[39;00m binary:\n\u001b[32m   1040\u001b[39m         \u001b[38;5;28;01mreturn\u001b[39;00m response, \u001b[38;5;28mself\u001b[39m._create_connection_guard(connection)\n",
      "\u001b[36mFile \u001b[39m\u001b[32m/usr/local/python/3.12.1/lib/python3.12/site-packages/py4j/clientserver.py:535\u001b[39m, in \u001b[36mClientServerConnection.send_command\u001b[39m\u001b[34m(self, command)\u001b[39m\n\u001b[32m    533\u001b[39m \u001b[38;5;28;01mtry\u001b[39;00m:\n\u001b[32m    534\u001b[39m     \u001b[38;5;28;01mwhile\u001b[39;00m \u001b[38;5;28;01mTrue\u001b[39;00m:\n\u001b[32m--> \u001b[39m\u001b[32m535\u001b[39m         answer = smart_decode(\u001b[38;5;28;43mself\u001b[39;49m\u001b[43m.\u001b[49m\u001b[43mstream\u001b[49m\u001b[43m.\u001b[49m\u001b[43mreadline\u001b[49m\u001b[43m(\u001b[49m\u001b[43m)\u001b[49m[:-\u001b[32m1\u001b[39m])\n\u001b[32m    536\u001b[39m         logger.debug(\u001b[33m\"\u001b[39m\u001b[33mAnswer received: \u001b[39m\u001b[38;5;132;01m{0}\u001b[39;00m\u001b[33m\"\u001b[39m.format(answer))\n\u001b[32m    537\u001b[39m         \u001b[38;5;66;03m# Happens when a the other end is dead. There might be an empty\u001b[39;00m\n\u001b[32m    538\u001b[39m         \u001b[38;5;66;03m# answer before the socket raises an error.\u001b[39;00m\n",
      "\u001b[36mFile \u001b[39m\u001b[32m/usr/local/python/3.12.1/lib/python3.12/socket.py:707\u001b[39m, in \u001b[36mSocketIO.readinto\u001b[39m\u001b[34m(self, b)\u001b[39m\n\u001b[32m    705\u001b[39m \u001b[38;5;28;01mwhile\u001b[39;00m \u001b[38;5;28;01mTrue\u001b[39;00m:\n\u001b[32m    706\u001b[39m     \u001b[38;5;28;01mtry\u001b[39;00m:\n\u001b[32m--> \u001b[39m\u001b[32m707\u001b[39m         \u001b[38;5;28;01mreturn\u001b[39;00m \u001b[38;5;28;43mself\u001b[39;49m\u001b[43m.\u001b[49m\u001b[43m_sock\u001b[49m\u001b[43m.\u001b[49m\u001b[43mrecv_into\u001b[49m\u001b[43m(\u001b[49m\u001b[43mb\u001b[49m\u001b[43m)\u001b[49m\n\u001b[32m    708\u001b[39m     \u001b[38;5;28;01mexcept\u001b[39;00m timeout:\n\u001b[32m    709\u001b[39m         \u001b[38;5;28mself\u001b[39m._timeout_occurred = \u001b[38;5;28;01mTrue\u001b[39;00m\n",
      "\u001b[31mKeyboardInterrupt\u001b[39m: "
     ]
    }
   ],
   "source": [
    "df.describe().show()"
   ]
  },
  {
   "cell_type": "code",
   "execution_count": 30,
   "id": "23c1c1d6",
   "metadata": {},
   "outputs": [
    {
     "name": "stderr",
     "output_type": "stream",
     "text": [
      "[Stage 64:=============================>                            (1 + 1) / 2]\r"
     ]
    },
    {
     "name": "stdout",
     "output_type": "stream",
     "text": [
      "+-------+------------------+------------------+------------------+------------------+------------------+------------------+------------------+-----------------+------------------+------------------+\n",
      "|summary|         SURVEY_ID| SURVEY_SPECIES_ID|        SPECIES_ID|    SPECIES_RUN_ID|        RUN_NUMBER|    LW_MEASURED_ID|       FISH_LENGTH|      FISH_WEIGHT|          AGE_BAND|          NALL_AGE|\n",
      "+-------+------------------+------------------+------------------+------------------+------------------+------------------+------------------+-----------------+------------------+------------------+\n",
      "|  count|           7367578|           7367578|           7367578|           7367578|           7367578|           7367578|           7367578|           240058|           1130971|             23866|\n",
      "|   mean| 93682.65089680761|361486.63287636725|186.76893668448437|456139.34172627697|1.2403370551353512| 4823066.600317092|121.35132888990113|294.6411737996638|2.3283536234110374|2.1630705394190812|\n",
      "| stddev|46246.016643685456|216998.11731457428| 55.04064610893465| 304998.3889446112|0.5048177896548945|2748992.5925714923| 94.20012204576273|795.3060720256196| 2.130040620843675| 0.589778658342934|\n",
      "|    min|               120|               100|                 1|               100|                 1|               100|                 0|              0.1|                 0|                +2|\n",
      "|    25%|             54590|            172147|               153|            174211|                 1|           2602282|                68|              7.0|               1.0|               2.1|\n",
      "|    50%|            101045|            369269|               194|            452761|                 1|           4874036|                98|             30.0|               2.0|               2.2|\n",
      "|    75%|            133760|            530776|               194|            709948|                 1|           7151526|               140|            157.0|               3.0|               2.2|\n",
      "|    max|            176672|            760076|              1198|           1009337|                 6|           9506421|             72175|          20000.0|               >9+|                st|\n",
      "+-------+------------------+------------------+------------------+------------------+------------------+------------------+------------------+-----------------+------------------+------------------+\n",
      "\n"
     ]
    },
    {
     "name": "stderr",
     "output_type": "stream",
     "text": [
      "                                                                                \r"
     ]
    }
   ],
   "source": [
    "df.summary().show()"
   ]
  },
  {
   "cell_type": "code",
   "execution_count": 9,
   "id": "6117c0cc",
   "metadata": {},
   "outputs": [
    {
     "name": "stderr",
     "output_type": "stream",
     "text": [
      "                                                                                \r"
     ]
    },
    {
     "name": "stdout",
     "output_type": "stream",
     "text": [
      "+----------+---------+-----------------+--------------+----------+--------------+-----------+-----------+--------+--------+---------------+-----------------+------------+\n",
      "|SPECIES_ID|SURVEY_ID|SURVEY_SPECIES_ID|SPECIES_RUN_ID|RUN_NUMBER|LW_MEASURED_ID|FISH_LENGTH|FISH_WEIGHT|AGE_BAND|NALL_AGE|EVENT_DATE_YEAR|     SPECIES_NAME|  LATIN_NAME|\n",
      "+----------+---------+-----------------+--------------+----------+--------------+-----------+-----------+--------+--------+---------------+-----------------+------------+\n",
      "|       111|   176011|           758857|       1007731|         2|       9498746|        134|       NULL|      >0|    NULL|           2025|Brown / sea trout|Salmo trutta|\n",
      "|       111|   176011|           758857|       1007731|         2|       9498746|        134|       NULL|      >0|    NULL|           2025|Brown / sea trout|Salmo trutta|\n",
      "|       111|   176011|           758857|       1007731|         2|       9498746|        134|       NULL|      >0|    NULL|           2025|Brown / sea trout|Salmo trutta|\n",
      "|       111|   176011|           758857|       1007731|         2|       9498747|        135|       NULL|      >0|    NULL|           2025|Brown / sea trout|Salmo trutta|\n",
      "|       111|   176011|           758857|       1007731|         2|       9498747|        135|       NULL|      >0|    NULL|           2025|Brown / sea trout|Salmo trutta|\n",
      "+----------+---------+-----------------+--------------+----------+--------------+-----------+-----------+--------+--------+---------------+-----------------+------------+\n",
      "only showing top 5 rows\n"
     ]
    }
   ],
   "source": [
    "# Read the FW_Fish_Counts.csv file into a Spark DataFrame\n",
    "counts_df = spark.read.csv(\"raw_data/FW_Fish_Counts.csv\", header=True, inferSchema=True)\n",
    "\n",
    "# Select only the columns needed for the join\n",
    "counts_year_df = counts_df.select(\"SURVEY_ID\", \"EVENT_DATE_YEAR\")\n",
    "\n",
    "# Select SPECIES_ID, SPECIES_NAME, and LATIN_NAME from counts_df\n",
    "species_info_df = counts_df.select(\"SPECIES_ID\", \"SPECIES_NAME\", \"LATIN_NAME\").dropDuplicates([\"SPECIES_ID\"])\n",
    "\n",
    "df = df.join(counts_year_df, on=\"SURVEY_ID\", how=\"left\").join(species_info_df, on=\"SPECIES_ID\", how=\"left\")\n",
    "\n",
    "df.show(5)"
   ]
  },
  {
   "cell_type": "code",
   "execution_count": 10,
   "id": "bc4a89ca",
   "metadata": {},
   "outputs": [
    {
     "name": "stdout",
     "output_type": "stream",
     "text": [
      "root\n",
      " |-- SPECIES_ID: integer (nullable = true)\n",
      " |-- SURVEY_ID: integer (nullable = true)\n",
      " |-- SURVEY_SPECIES_ID: integer (nullable = true)\n",
      " |-- SPECIES_RUN_ID: integer (nullable = true)\n",
      " |-- RUN_NUMBER: integer (nullable = true)\n",
      " |-- LW_MEASURED_ID: integer (nullable = true)\n",
      " |-- FISH_LENGTH: integer (nullable = true)\n",
      " |-- FISH_WEIGHT: double (nullable = true)\n",
      " |-- AGE_BAND: string (nullable = true)\n",
      " |-- NALL_AGE: string (nullable = true)\n",
      " |-- EVENT_DATE_YEAR: integer (nullable = true)\n",
      " |-- SPECIES_NAME: string (nullable = true)\n",
      " |-- LATIN_NAME: string (nullable = true)\n",
      "\n"
     ]
    }
   ],
   "source": [
    "df.printSchema()"
   ]
  },
  {
   "cell_type": "code",
   "execution_count": 12,
   "id": "386f1893",
   "metadata": {},
   "outputs": [
    {
     "name": "stderr",
     "output_type": "stream",
     "text": [
      "[Stage 36:======================================>                   (2 + 1) / 3]\r"
     ]
    },
    {
     "name": "stdout",
     "output_type": "stream",
     "text": [
      "+----------+-----------------+---------------------------+-------------+--------------+-----------------------------------------------------------------------------------------------------------------------------------------------------------------------------------------------------------------------------------------------------------------------------------------------------------------------------------------------------------------------------------------------------------------------------------------------------------------------------------------------------------------------------------------------------------------------------------------------------------------+----------------------+-----------------------+-----------------------------------------------------------------------------------------------------------------------------------------------------------------------------------------------------------------------------------------------------------------------------------------------------------------------------------------------------------------------------------------------------------------------------------------------------------------------------------------------------------------------------------------------------+\n",
      "|SPECIES_ID|SPECIES_NAME     |LATIN_NAME                 |species_count|age_band_count|unique_AGE_BAND_values                                                                                                                                                                                                                                                                                                                                                                                                                                                                                                                                                                                           |species_count_2005plus|age_band_count_2005plus|unique_AGE_BAND_values_2005plus                                                                                                                                                                                                                                                                                                                                                                                                                                                                                                                      |\n",
      "+----------+-----------------+---------------------------+-------------+--------------+-----------------------------------------------------------------------------------------------------------------------------------------------------------------------------------------------------------------------------------------------------------------------------------------------------------------------------------------------------------------------------------------------------------------------------------------------------------------------------------------------------------------------------------------------------------------------------------------------------------------+----------------------+-----------------------+-----------------------------------------------------------------------------------------------------------------------------------------------------------------------------------------------------------------------------------------------------------------------------------------------------------------------------------------------------------------------------------------------------------------------------------------------------------------------------------------------------------------------------------------------------+\n",
      "|111       |Brown / sea trout|Salmo trutta               |3885102      |2298087       |0 (4160), 0+ (1070652), 1 (7777), 1+ (356232), 13+ (2), 2 (23871), 2+ (129043), 3 (12038), 3+ (45266), 4 (2198), 4+ (11325), 5 (459), 5+ (2092), 6 (55), 6+ (322), 7 (44), 7+ (60), 8+ (32), 9+ (8), >0 (3391), >0+ (567048), >1 (114), >1+ (54100), >2 (188), >2+ (6402), >3 (262), >3+ (658), >4 (84), >4+ (134), >5+ (59), >6+ (11)                                                                                                                                                                                                                                                                           |2936934               |1804616                |0 (2202), 0+ (872104), 1 (4482), 1+ (231780), 2 (18388), 2+ (70527), 3 (9530), 3+ (25188), 4 (1932), 4+ (6223), 5 (399), 5+ (922), 6 (50), 6+ (84), 7 (34), 7+ (22), 8+ (11), 9+ (8), >0 (3382), >0+ (507966), >1 (104), >1+ (44819), >2 (147), >2+ (3604), >3 (196), >3+ (307), >4 (72), >4+ (82), >5+ (40), >6+ (11)                                                                                                                                                                                                                               |\n",
      "|118       |Atlantic salmon  |Salmo salar                |1752644      |1450791       |0 (1433), 0+ (991356), 1 (1922), 1+ (188635), 2 (12011), 2+ (4221), 3 (209), 3+ (137), 4 (4), 4+ (42), 5 (4), 5+ (16), >0 (35), >0+ (249701), >1 (78), >1+ (975), >2+ (12)                                                                                                                                                                                                                                                                                                                                                                                                                                       |1425878               |1176091                |0 (480), 0+ (817457), 1 (681), 1+ (133655), 2 (10217), 2+ (2061), 3 (189), 3+ (93), 4 (4), 4+ (42), 5 (4), 5+ (16), >0 (29), >0+ (210384), >1 (31), >1+ (743), >2+ (5)                                                                                                                                                                                                                                                                                                                                                                               |\n",
      "|194       |Roach            |Rutilus rutilus            |24994073     |645103        |0 (31210), 0+ (16972), 1 (2718), 1+ (90481), 10 (368), 10+ (2275), 11 (133), 11+ (975), 12 (57), 12+ (521), 13 (33), 13+ (168), 14+ (75), 15+ (45), 16+ (11), 2 (9221), 2+ (129332), 3 (13589), 3+ (119137), 4 (10226), 4+ (82983), 5 (7167), 5+ (52715), 6 (4511), 6+ (31355), 7 (2897), 7+ (17399), 8 (1695), 8+ (9305), 9 (796), 9+ (4288), >0 (8), >0+ (2270), >1 (7), >1+ (5), >2 (20), >2+ (5), >3+ (38), >4 (14), >4+ (16), >5+ (42), >6+ (20)                                                                                                                                                            |9060535               |408569                 |0 (61), 0+ (2719), 1 (1013), 1+ (38093), 10 (211), 10+ (1801), 11 (113), 11+ (745), 12 (42), 12+ (293), 13 (33), 13+ (57), 14+ (17), 15+ (33), 16+ (11), 2 (6635), 2+ (81472), 3 (9957), 3+ (87078), 4 (7561), 4+ (67157), 5 (5488), 5+ (40841), 6 (3659), 6+ (25655), 7 (2257), 7+ (13732), 8 (1415), 8+ (6663), 9 (610), 9+ (3067), >0+ (43), >1 (7), >2 (12), >3+ (6), >5+ (12)                                                                                                                                                                   |\n",
      "|152       |Chub             |Leuciscus cephalus         |2868446      |314799        |0 (808), 0+ (3462), 1 (1077), 1+ (21943), 10 (1696), 10+ (12123), 11 (1093), 11+ (10303), 12 (759), 12+ (9466), 13 (652), 13+ (7474), 14 (385), 14+ (5121), 15 (238), 15+ (3747), 16 (234), 16+ (1718), 17 (128), 17+ (1016), 18 (35), 18+ (498), 19 (10), 19+ (195), 2 (4008), 2+ (39856), 20+ (92), 3 (5462), 3+ (39507), 4 (4889), 4+ (34768), 5 (3118), 5+ (23417), 6 (2110), 6+ (20663), 7 (1970), 7+ (17998), 8 (1910), 8+ (15028), 9 (1598), 9+ (13645), >0 (24), >0+ (325), >1 (11), >1+ (26), >10+ (19), >11+ (18), >12+ (9), >20+ (49), >3+ (7), >4+ (6), >5+ (26), >6+ (6), >7+ (8), >8+ (9), >9+ (36)|1757545               |227124                 |0 (46), 0+ (1342), 1 (466), 1+ (10839), 10 (898), 10+ (8664), 11 (690), 11+ (7126), 12 (516), 12+ (6447), 13 (435), 13+ (5115), 14 (334), 14+ (3578), 15 (171), 15+ (2359), 16 (210), 16+ (1096), 17 (59), 17+ (627), 18 (35), 18+ (182), 19 (10), 19+ (85), 2 (2762), 2+ (30152), 20+ (52), 3 (4068), 3+ (32483), 4 (3426), 4+ (29454), 5 (2005), 5+ (19366), 6 (1315), 6+ (15123), 7 (1260), 7+ (12492), 8 (1324), 8+ (9951), 9 (1128), 9+ (9159), >0 (8), >0+ (139), >1 (11), >1+ (18), >10+ (19), >11+ (18), >12+ (9), >3+ (7), >8+ (9), >9+ (36)|\n",
      "|153       |Dace             |Leuciscus leuciscus        |4099274      |293874        |0 (9406), 0+ (12846), 1 (3144), 1+ (61300), 10 (29), 10+ (48), 11 (5), 2 (7937), 2+ (71977), 3 (6906), 3+ (52010), 4 (5619), 4+ (31463), 5 (2787), 5+ (15119), 6 (1382), 6+ (6576), 7 (736), 7+ (2585), 8 (309), 8+ (1081), 9 (106), 9+ (252), >0+ (216), >1+ (9), >2+ (16), >5+ (10)                                                                                                                                                                                                                                                                                                                            |2061152               |202960                 |0 (82), 0+ (4863), 1 (1568), 1+ (34767), 10 (16), 10+ (38), 11 (5), 2 (4462), 2+ (55591), 3 (5288), 3+ (41983), 4 (3780), 4+ (26597), 5 (2023), 5+ (12114), 6 (1022), 6+ (4997), 7 (511), 7+ (1897), 8 (243), 8+ (710), 9 (77), 9+ (172), >0+ (135), >1+ (9), >5+ (10)                                                                                                                                                                                                                                                                               |\n",
      "|211       |Perch            |Perca fluviatilis          |3692098      |73001         |0 (4196), 0+ (5201), 1 (1059), 1+ (19099), 10 (14), 10+ (119), 11 (5), 11+ (69), 13 (7), 2 (1810), 2+ (16719), 3 (1468), 3+ (10387), 4 (749), 4+ (4897), 5 (347), 5+ (2514), 6 (175), 6+ (1565), 7 (145), 7+ (1150), 8 (40), 8+ (724), 9+ (356), >0+ (175), >1 (11)                                                                                                                                                                                                                                                                                                                                              |1583651               |19523                  |0+ (995), 1 (100), 1+ (5253), 10 (14), 10+ (53), 11+ (20), 13 (7), 2 (216), 2+ (5784), 3 (144), 3+ (2861), 4 (62), 4+ (1625), 5 (39), 5+ (773), 6 (38), 6+ (606), 7 (20), 7+ (464), 8 (20), 8+ (209), 9+ (130), >0+ (90)                                                                                                                                                                                                                                                                                                                             |\n",
      "|193       |Gudgeon          |Gobio gobio                |3392183      |69995         |0 (6504), 0+ (2040), 1 (698), 1+ (18827), 2 (2721), 2+ (23126), 3 (1427), 3+ (8922), 4 (262), 4+ (2061), 5 (101), 5+ (383), 6 (5), 6+ (28), 7+ (15), 8+ (14), >0 (247), >0+ (2545), >1+ (25), >2+ (17), >3+ (10), >4 (17)                                                                                                                                                                                                                                                                                                                                                                                        |1705599               |15024                  |0+ (903), 1 (170), 1+ (2832), 2 (356), 2+ (6923), 3 (96), 3+ (2651), 4 (28), 4+ (538), 5 (16), 5+ (72), 7+ (9), >0+ (394), >1+ (20), >2+ (6), >3+ (10)                                                                                                                                                                                                                                                                                                                                                                                               |\n",
      "|154       |Grayling         |Thymallus thymallus        |340242       |68004         |0 (2130), 0+ (19783), 1 (1182), 1+ (24594), 10+ (20), 2 (851), 2+ (12814), 3 (327), 3+ (4237), 4 (230), 4+ (1276), 5+ (217), 6+ (55), >0 (24), >0+ (169), >1+ (79), >2+ (16)                                                                                                                                                                                                                                                                                                                                                                                                                                     |205016                |21014                  |0 (191), 0+ (3909), 1 (729), 1+ (7987), 10+ (12), 2 (385), 2+ (5075), 3 (160), 3+ (1755), 4 (48), 4+ (467), 5+ (65), >0 (24), >0+ (133), >1+ (74)                                                                                                                                                                                                                                                                                                                                                                                                    |\n",
      "|213       |Pike             |Esox lucius                |974312       |51513         |0 (738), 0+ (9161), 1 (1378), 1+ (8875), 10 (22), 10+ (345), 11 (16), 11+ (128), 12+ (45), 13 (9), 13+ (15), 14+ (4), 2 (618), 2+ (6149), 3 (489), 3+ (5996), 4 (516), 4+ (5562), 5 (294), 5+ (4240), 6 (137), 6+ (3051), 7 (91), 7+ (1718), 8 (24), 8+ (1199), 9 (58), 9+ (627), >1+ (8)                                                                                                                                                                                                                                                                                                                        |477875                |14150                  |0 (7), 0+ (2301), 1 (247), 1+ (2633), 10 (6), 10+ (76), 11 (16), 11+ (26), 13 (9), 2 (180), 2+ (2078), 3 (231), 3+ (1350), 4 (269), 4+ (1380), 5 (167), 5+ (1212), 6 (47), 6+ (913), 7 (47), 7+ (431), 8 (14), 8+ (354), 9 (38), 9+ (118)                                                                                                                                                                                                                                                                                                            |\n",
      "|182       |Common bream     |Abramis brama              |2087150      |42496         |0 (2492), 0+ (505), 1 (634), 1+ (3628), 10 (184), 10+ (903), 11 (230), 11+ (1199), 12 (153), 12+ (888), 13 (171), 13+ (630), 14 (66), 14+ (375), 15 (58), 15+ (342), 16 (9), 16+ (157), 17 (10), 17+ (60), 18 (8), 18+ (49), 19+ (22), 2 (1672), 2+ (5940), 20+ (9), 3 (1633), 3+ (5386), 4 (1630), 4+ (3448), 5 (1213), 5+ (2032), 6 (658), 6+ (1534), 7 (466), 7+ (1239), 8 (290), 8+ (1312), 9 (227), 9+ (1010), >10 (12), >9 (12)                                                                                                                                                                            |525605                |31135                  |0 (20), 0+ (370), 1 (574), 1+ (2346), 10 (151), 10+ (763), 11 (154), 11+ (966), 12 (75), 12+ (596), 13 (33), 13+ (424), 14 (18), 14+ (247), 15 (12), 15+ (235), 16+ (125), 17+ (39), 18+ (41), 19+ (22), 2 (1254), 2+ (4836), 3 (999), 3+ (4655), 4 (925), 4+ (2996), 5 (797), 5+ (1896), 6 (477), 6+ (1428), 7 (336), 7+ (1025), 8 (254), 8+ (1065), 9 (173), 9+ (784), >10 (12), >9 (12)                                                                                                                                                           |\n",
      "|181       |Bleak            |Alburnus alburnus          |1812943      |38811         |0 (490), 0+ (1268), 1 (175), 1+ (10716), 2 (266), 2+ (15752), 3 (264), 3+ (7146), 4 (64), 4+ (2186), 5 (85), 5+ (314), 6+ (60), 7+ (25)                                                                                                                                                                                                                                                                                                                                                                                                                                                                          |1099305               |9183                   |0 (12), 0+ (933), 1+ (1652), 2+ (2880), 3 (14), 3+ (2298), 4 (13), 4+ (1116), 5 (52), 5+ (188), 6+ (14), 7+ (11)                                                                                                                                                                                                                                                                                                                                                                                                                                     |\n",
      "|283       |Bullhead         |Cottus gobio               |1484688      |29561         |0 (2331), 0+ (12210), 1+ (136), 2 (10), >0 (4), >0+ (14870)                                                                                                                                                                                                                                                                                                                                                                                                                                                                                                                                                      |1199197               |9105                   |0+ (5566), 1+ (5), >0+ (3534)                                                                                                                                                                                                                                                                                                                                                                                                                                                                                                                        |\n",
      "|151       |Barbel           |Barbus barbus              |178270       |25663         |0 (12), 0+ (302), 1 (357), 1+ (3281), 10 (92), 10+ (1010), 11 (151), 11+ (1009), 12 (105), 12+ (920), 13 (54), 13+ (1256), 14 (79), 14+ (652), 15 (34), 15+ (522), 16 (35), 16+ (285), 17 (65), 17+ (76), 18+ (89), 19 (32), 19+ (20), 2 (484), 2+ (4056), 20 (16), 20+ (26), 3 (429), 3+ (2012), 4 (492), 4+ (1060), 5 (190), 5+ (1278), 6 (186), 6+ (1134), 7 (83), 7+ (1216), 8 (87), 8+ (1158), 9 (138), 9+ (1171), >20+ (9)                                                                                                                                                                                 |124355                |13943                  |0 (1), 0+ (170), 1 (5), 1+ (1648), 10 (72), 10+ (757), 11 (126), 11+ (552), 12 (87), 12+ (378), 13 (54), 13+ (509), 14 (79), 14+ (332), 15 (28), 15+ (255), 16 (24), 16+ (114), 17 (65), 17+ (32), 18+ (41), 19 (32), 2 (196), 2+ (2227), 20 (16), 3 (122), 3+ (1390), 4 (149), 4+ (640), 5 (108), 5+ (783), 6 (106), 6+ (518), 7 (34), 7+ (763), 8 (29), 8+ (656), 9 (90), 9+ (755)                                                                                                                                                                 |\n",
      "|196       |Rudd             |Scardinius erythrophthalmus|342911       |6316          |0+ (29), 1+ (1084), 11+ (20), 12+ (10), 14+ (17), 2 (33), 2+ (2193), 3 (78), 3+ (1091), 4 (63), 4+ (734), 5 (30), 5+ (372), 6 (20), 6+ (193), 7 (19), 7+ (153), 8+ (149), 9+ (18), >4+ (10)                                                                                                                                                                                                                                                                                                                                                                                                                      |97134                 |5763                   |1+ (931), 11+ (20), 12+ (10), 14+ (17), 2 (33), 2+ (2160), 3 (78), 3+ (1016), 4 (63), 4+ (617), 5 (30), 5+ (313), 6 (11), 6+ (179), 7 (19), 7+ (142), 8+ (106), 9+ (18)                                                                                                                                                                                                                                                                                                                                                                              |\n",
      "|198       |Ruffe            |Gymnocephalus cernuus      |908119       |6160          |0 (50), 0+ (232), 1+ (2518), 2 (69), 2+ (2112), 3 (15), 3+ (815), 4+ (188), 5+ (146), 6+ (15)                                                                                                                                                                                                                                                                                                                                                                                                                                                                                                                    |270943                |553                    |1+ (131), 2+ (210), 3+ (185), 4+ (13), 5+ (14)                                                                                                                                                                                                                                                                                                                                                                                                                                                                                                       |\n",
      "|199       |Silver bream     |Abramis bjoerkna           |1011596      |5497          |0 (4), 1+ (666), 2+ (1414), 3 (18), 3+ (1717), 4 (9), 4+ (890), 5+ (461), 6 (9), 6+ (135), 7 (9), 7+ (109), 8+ (44), 9+ (12)                                                                                                                                                                                                                                                                                                                                                                                                                                                                                     |289137                |4803                   |1+ (522), 2+ (1316), 3+ (1551), 4+ (765), 5+ (382), 6+ (135), 7+ (99), 8+ (21), 9+ (12)                                                                                                                                                                                                                                                                                                                                                                                                                                                              |\n",
      "|212       |Pike varieties   |Esox lucius                |26073        |2629          |0 (281), 0+ (407), 1 (20), 1+ (332), 10+ (36), 2 (61), 2+ (267), 3 (76), 3+ (210), 4 (14), 4+ (351), 5 (32), 5+ (175), 6 (32), 6+ (208), 7 (43), 7+ (47), 8 (8), 8+ (13), 9+ (16)                                                                                                                                                                                                                                                                                                                                                                                                                                |19885                 |1735                   |0+ (390), 1+ (291), 10+ (36), 2+ (215), 3+ (198), 4+ (262), 5+ (124), 6+ (159), 7+ (31), 8+ (13), 9+ (16)                                                                                                                                                                                                                                                                                                                                                                                                                                            |\n",
      "|114       |Rainbow trout    |Oncorhynchus mykiss        |23158        |2374          |0 (96), 0+ (295), 1 (70), 1+ (731), 2 (74), 2+ (602), 3 (48), 3+ (106), 4 (16), 4+ (52), 5 (8), 5+ (11), 6+ (8), >0+ (110), >1+ (79), >2+ (68)                                                                                                                                                                                                                                                                                                                                                                                                                                                                   |11179                 |884                    |0+ (47), 1 (18), 1+ (201), 2 (14), 2+ (324), 3+ (27), 4+ (3), 5+ (3), >0+ (107), >1+ (72), >2+ (68)                                                                                                                                                                                                                                                                                                                                                                                                                                                  |\n",
      "|241       |European eel     |Anguilla anguilla          |455816       |2224          |0 (1599), 0+ (98), 1+ (5), >0+ (522)                                                                                                                                                                                                                                                                                                                                                                                                                                                                                                                                                                             |284015                |650                    |0 (25), 0+ (98), 1+ (5), >0+ (522)                                                                                                                                                                                                                                                                                                                                                                                                                                                                                                                   |\n",
      "|201       |Tench            |Tinca tinca                |147123       |1108          |0 (116), 1+ (62), 10+ (10), 12+ (10), 2 (8), 2+ (162), 3 (8), 3+ (204), 4+ (107), 5 (22), 5+ (84), 6 (10), 6+ (52), 7 (16), 7+ (57), 8+ (89), 9+ (31), >0+ (60)                                                                                                                                                                                                                                                                                                                                                                                                                                                  |50668                 |83                     |1+ (16), 2+ (11), 4+ (8), 5+ (8), 7+ (27), 8+ (13)                                                                                                                                                                                                                                                                                                                                                                                                                                                                                                   |\n",
      "+----------+-----------------+---------------------------+-------------+--------------+-----------------------------------------------------------------------------------------------------------------------------------------------------------------------------------------------------------------------------------------------------------------------------------------------------------------------------------------------------------------------------------------------------------------------------------------------------------------------------------------------------------------------------------------------------------------------------------------------------------------+----------------------+-----------------------+-----------------------------------------------------------------------------------------------------------------------------------------------------------------------------------------------------------------------------------------------------------------------------------------------------------------------------------------------------------------------------------------------------------------------------------------------------------------------------------------------------------------------------------------------------+\n",
      "only showing top 20 rows\n"
     ]
    },
    {
     "name": "stderr",
     "output_type": "stream",
     "text": [
      "                                                                                \r"
     ]
    }
   ],
   "source": [
    "from pyspark.sql import functions as F\n",
    "\n",
    "# 1. Aggregation for all years\n",
    "agg_all = (\n",
    "    df.groupBy(\"SPECIES_ID\")\n",
    "    .agg(\n",
    "        F.count(\"*\").alias(\"species_count\"),\n",
    "        F.count(F.col(\"AGE_BAND\")).alias(\"age_band_count\"),\n",
    "        F.collect_list(\"AGE_BAND\").alias(\"age_band_list\")\n",
    "    )\n",
    ")\n",
    "\n",
    "# Helper to get unique AGE_BAND values with counts as a string\n",
    "def format_age_band_counts(age_band_list):\n",
    "    from collections import Counter\n",
    "    counts = Counter([v for v in age_band_list if v is not None and str(v).strip() != \"\"])\n",
    "    return \", \".join(f\"{k} ({v})\" for k, v in sorted(counts.items(), key=lambda x: x[0]))\n",
    "\n",
    "format_age_band_counts_udf = F.udf(format_age_band_counts, returnType=F.StringType())\n",
    "\n",
    "agg_all = agg_all.withColumn(\n",
    "    \"unique_AGE_BAND_values\",\n",
    "    format_age_band_counts_udf(\"age_band_list\")\n",
    ").drop(\"age_band_list\")\n",
    "\n",
    "# 2. Aggregation for EVENT_DATE_YEAR >= 2005\n",
    "agg_2005 = (\n",
    "    df.filter(F.col(\"EVENT_DATE_YEAR\") >= 2005)\n",
    "    .groupBy(\"SPECIES_ID\")\n",
    "    .agg(\n",
    "        F.count(\"*\").alias(\"species_count_2005plus\"),\n",
    "        F.count(F.col(\"AGE_BAND\")).alias(\"age_band_count_2005plus\"),\n",
    "        F.collect_list(\"AGE_BAND\").alias(\"age_band_list_2005plus\")\n",
    "    )\n",
    ")\n",
    "\n",
    "agg_2005 = agg_2005.withColumn(\n",
    "    \"unique_AGE_BAND_values_2005plus\",\n",
    "    format_age_band_counts_udf(\"age_band_list_2005plus\")\n",
    ").drop(\"age_band_list_2005plus\")\n",
    "\n",
    "# Join both aggregations\n",
    "final_df = agg_all.join(\n",
    "    agg_2005.select(\n",
    "        \"SPECIES_ID\",\n",
    "        \"species_count_2005plus\",\n",
    "        \"age_band_count_2005plus\",\n",
    "        \"unique_AGE_BAND_values_2005plus\"\n",
    "    ),\n",
    "    on=\"SPECIES_ID\",\n",
    "    how=\"outer\"\n",
    ")\n",
    "\n",
    "# Add species info (SPECIES_NAME, LATIN_NAME)\n",
    "final_df = final_df.join(species_info_df, on=\"SPECIES_ID\", how=\"left\")\n",
    "\n",
    "# Sort by age_band_count descending\n",
    "final_df = final_df.orderBy(F.desc(\"age_band_count\"))\n",
    "\n",
    "column_order = [\n",
    "    \"SPECIES_ID\",\n",
    "    \"SPECIES_NAME\",\n",
    "    \"LATIN_NAME\",\n",
    "    \"species_count\",\n",
    "    \"age_band_count\",\n",
    "    \"unique_AGE_BAND_values\",\n",
    "    \"species_count_2005plus\",\n",
    "    \"age_band_count_2005plus\",\n",
    "    \"unique_AGE_BAND_values_2005plus\"\n",
    "]\n",
    "\n",
    "final_df = final_df.select(*column_order)\n",
    "\n",
    "final_df.show(truncate=False)"
   ]
  },
  {
   "cell_type": "code",
   "execution_count": 14,
   "id": "3ae99923",
   "metadata": {},
   "outputs": [],
   "source": [
    "import pandas as pd\n",
    "import re\n",
    "\n",
    "result_pd = final_df.toPandas()\n",
    "\n",
    "def sort_key(val):\n",
    "    val = val.strip()\n",
    "    match = re.match(r'([<>]?)(\\d+)(\\+?)', val)\n",
    "    if not match:\n",
    "        return (2, 0, '')  # Put unrecognized at the end\n",
    "    sign, num, plus = match.groups()\n",
    "    sign_order = {'<': 0, '': 1, '>': 2}\n",
    "    return (sign_order.get(sign, 1), int(num), plus)\n",
    "\n",
    "def sort_age_band_string(s):\n",
    "    if pd.isnull(s):\n",
    "        return \"\"\n",
    "    # Split by comma, remove empty, and sort\n",
    "    items = [v.strip() for v in s.split(\",\") if v.strip()]\n",
    "    return \", \".join(sorted(items, key=lambda x: sort_key(x.split(\" \")[0])))\n",
    "\n",
    "result_pd[\"unique_AGE_BAND_values\"] = result_pd[\"unique_AGE_BAND_values\"].apply(sort_age_band_string)\n",
    "result_pd[\"unique_AGE_BAND_values_2005plus\"] = result_pd[\"unique_AGE_BAND_values_2005plus\"].apply(sort_age_band_string)\n",
    "\n",
    "result_pd.to_csv(\"outputs/species_aggregates.csv\", index=False)"
   ]
  }
 ],
 "metadata": {
  "kernelspec": {
   "display_name": "Python 3",
   "language": "python",
   "name": "python3"
  },
  "language_info": {
   "codemirror_mode": {
    "name": "ipython",
    "version": 3
   },
   "file_extension": ".py",
   "mimetype": "text/x-python",
   "name": "python",
   "nbconvert_exporter": "python",
   "pygments_lexer": "ipython3",
   "version": "3.12.1"
  }
 },
 "nbformat": 4,
 "nbformat_minor": 5
}
