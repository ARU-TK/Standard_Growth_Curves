{
 "cells": [
  {
   "cell_type": "code",
   "execution_count": 6,
   "id": "7a2306a8",
   "metadata": {},
   "outputs": [],
   "source": [
    "from pyspark.sql import SparkSession\n",
    "\n",
    "spark = SparkSession.builder.getOrCreate()\n",
    "\n",
    "# Read the Parquet file\n",
    "df = spark.read.parquet(\"working_data/Filtered_Fish_Data.parquet\")"
   ]
  },
  {
   "cell_type": "code",
   "execution_count": 8,
   "id": "b36efbc1",
   "metadata": {},
   "outputs": [
    {
     "name": "stdout",
     "output_type": "stream",
     "text": [
      "+---------+----------+------------+--------------------+-----------------+----------------------+---------------------+-----------+--------+\n",
      "|SURVEY_ID|SPECIES_ID|SPECIES_NAME|          LATIN_NAME|SURVEY_RANKED_NGR|SURVEY_RANKED_NORTHING|SURVEY_RANKED_EASTING|FISH_LENGTH|AGE_BAND|\n",
      "+---------+----------+------------+--------------------+-----------------+----------------------+---------------------+-----------+--------+\n",
      "|   111032|       196|        Rudd|Scardinius erythr...|     SE5530009200|                409200|               455300|        142|     >4+|\n",
      "|    72230|       196|        Rudd|Scardinius erythr...|     SE7920071500|                471500|               479200|         29|      0+|\n",
      "|    51949|       196|        Rudd|Scardinius erythr...|     SU5880008700|                108700|               458800|        157|      0+|\n",
      "|    67760|       196|        Rudd|Scardinius erythr...|     TA0910054200|                454200|               509100|         30|      0+|\n",
      "|   150298|       196|        Rudd|Scardinius erythr...|     TG4050021700|                321700|               640500|        143|       3|\n",
      "+---------+----------+------------+--------------------+-----------------+----------------------+---------------------+-----------+--------+\n",
      "only showing top 5 rows\n"
     ]
    }
   ],
   "source": [
    "df.show(5)"
   ]
  },
  {
   "cell_type": "code",
   "execution_count": 14,
   "id": "0332d147",
   "metadata": {},
   "outputs": [
    {
     "name": "stdout",
     "output_type": "stream",
     "text": [
      "root\n",
      " |-- SURVEY_ID: integer (nullable = true)\n",
      " |-- SPECIES_ID: integer (nullable = true)\n",
      " |-- SPECIES_NAME: string (nullable = true)\n",
      " |-- LATIN_NAME: string (nullable = true)\n",
      " |-- SURVEY_RANKED_NGR: string (nullable = true)\n",
      " |-- SURVEY_RANKED_NORTHING: long (nullable = true)\n",
      " |-- SURVEY_RANKED_EASTING: long (nullable = true)\n",
      " |-- FISH_LENGTH: integer (nullable = true)\n",
      " |-- AGE_BAND: string (nullable = true)\n",
      "\n"
     ]
    }
   ],
   "source": [
    "df.printSchema()"
   ]
  },
  {
   "cell_type": "code",
   "execution_count": 30,
   "id": "59142680",
   "metadata": {},
   "outputs": [
    {
     "name": "stdout",
     "output_type": "stream",
     "text": [
      "Column                    | Count of values | Unique Entries\n",
      "------------------------------------------------------------\n",
      "SURVEY_ID                 | 4915478         | 30550     \n",
      "SPECIES_ID                | 4915478         | 13        \n",
      "SPECIES_NAME              | 4915478         | 13        \n",
      "LATIN_NAME                | 4915478         | 12        \n",
      "SURVEY_RANKED_NGR         | 4915478         | 11884     \n",
      "SURVEY_RANKED_NORTHING    | 4915478         | 9183      \n",
      "SURVEY_RANKED_EASTING     | 4915478         | 9037      \n",
      "FISH_LENGTH               | 4915478         | 1019      \n",
      "AGE_BAND                  | 4915478         | 63        \n"
     ]
    }
   ],
   "source": [
    "from pyspark.sql.functions import col\n",
    "\n",
    "summary_data = []\n",
    "for c in df.columns:\n",
    "    total = df.select(c).count()\n",
    "    uniques = df.select(c).distinct().count()\n",
    "    summary_data.append((c, total, uniques))\n",
    "\n",
    "# Print header\n",
    "print(f\"{'Column':<25} | {'Count of values':<15} | {'Unique Entries':<10}\")\n",
    "print(\"-\" * 60)\n",
    "\n",
    "# Print each line aligned\n",
    "for col_name, total, uniques in summary_data:\n",
    "    print(f\"{col_name:<25} | {total:<15} | {uniques:<10}\")"
   ]
  },
  {
   "cell_type": "code",
   "execution_count": null,
   "id": "368b0b11",
   "metadata": {},
   "outputs": [],
   "source": []
  }
 ],
 "metadata": {
  "kernelspec": {
   "display_name": "Python 3",
   "language": "python",
   "name": "python3"
  },
  "language_info": {
   "codemirror_mode": {
    "name": "ipython",
    "version": 3
   },
   "file_extension": ".py",
   "mimetype": "text/x-python",
   "name": "python",
   "nbconvert_exporter": "python",
   "pygments_lexer": "ipython3",
   "version": "3.12.1"
  }
 },
 "nbformat": 4,
 "nbformat_minor": 5
}
